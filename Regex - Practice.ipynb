{
 "cells": [
  {
   "cell_type": "markdown",
   "id": "5844e919",
   "metadata": {},
   "source": [
    "## PART A\n",
    "#### Find a list of all of the names in the following string using regex."
   ]
  },
  {
   "cell_type": "code",
   "execution_count": 6,
   "id": "8a6852ca",
   "metadata": {},
   "outputs": [],
   "source": [
    "import re"
   ]
  },
  {
   "cell_type": "code",
   "execution_count": 16,
   "id": "75ee99a3",
   "metadata": {},
   "outputs": [
    {
     "data": {
      "text/plain": [
       "['Lucy', 'Elizabeth', 'Ruth', 'Carl']"
      ]
     },
     "execution_count": 16,
     "metadata": {},
     "output_type": "execute_result"
    }
   ],
   "source": [
    "simple_string = \"Lucy is 5 years old, and her sister Elizabeth is 2 years old. Ruth and Carl, their parents, have 3 kids.\"\n",
    "pattern=\"[A-Z]\\w+\"\n",
    "list_names = re.findall(pattern, simple_string)\n",
    "list_names"
   ]
  },
  {
   "cell_type": "markdown",
   "id": "b695560f",
   "metadata": {},
   "source": [
    "## PART B\n",
    "#### The dataset file in assets/grades.txt contains a line separated list of people with their grade in a class. \n",
    "#### Create a regex to generate a list of just those students who received a B in the course."
   ]
  },
  {
   "cell_type": "code",
   "execution_count": 25,
   "id": "fe5ccb06",
   "metadata": {},
   "outputs": [
    {
     "name": "stdout",
     "output_type": "stream",
     "text": [
      "['Ronald Mayr: A', 'Bell Kassulke: B', 'Jacqueline Rupp: A', 'Alexander Zeller: C', 'Valentina Denk: C', 'Simon Loidl: B', 'Elias Jovanovic: B', 'Stefanie Weninger: A', 'Fabian Peer: C', 'Hakim Botros: B']\n",
      "\n",
      "List of students who graded B:\n"
     ]
    },
    {
     "data": {
      "text/plain": [
       "['Bell Kassulke',\n",
       " 'Simon Loidl',\n",
       " 'Elias Jovanovic',\n",
       " 'Hakim Botros',\n",
       " 'Emilie Lorentsen',\n",
       " 'Jake Wood',\n",
       " 'Fatemeh Akhtar',\n",
       " 'Kim Weston',\n",
       " 'Yasmin Dar',\n",
       " 'Viswamitra Upandhye',\n",
       " 'Killian Kaufman',\n",
       " 'Elwood Page',\n",
       " 'Elodie Booker',\n",
       " 'Adnan Chen',\n",
       " 'Hank Spinka',\n",
       " 'Hannah Bayer']"
      ]
     },
     "execution_count": 25,
     "metadata": {},
     "output_type": "execute_result"
    }
   ],
   "source": [
    "with open (\"grades.txt\", \"r\") as file:\n",
    "    grades = file.read()\n",
    "    list=grades.split('\\n')\n",
    "    \n",
    "list=[student.rstrip() for student in list]   #to remove the white space at the end of some lines\n",
    "print(list[:10])\n",
    "B_studs=[]\n",
    "for student in list:\n",
    "  test='B$'\n",
    "  if re.search(test, student):\n",
    "      B_studs.append(student.split(\":\")[0])\n",
    "print(\"\\nList of students who graded B:\")\n",
    "B_studs\n"
   ]
  },
  {
   "cell_type": "markdown",
   "id": "2c972b66",
   "metadata": {},
   "source": [
    "# Part C\n",
    "Consider the standard web log file in assets/logdata.txt. \n",
    "This file records the access a user makes when visiting a web page. \n",
    "Each line of the log has the following items:\n",
    "\n",
    "   - a host (e.g., '146.204.224.152')\n",
    "   - a user_name (e.g., 'feest6811' note: sometimes the user name is missing! In this case, use '-' as the value for the username.)\n",
    "   - the time a request was made (e.g., '21/Jun/2019:15:45:24 -0700')\n",
    "   - the post request type (e.g., 'POST /incentivize HTTP/1.1' note: not everything is a POST!)\n",
    "\n",
    "Your task is to convert this into a list of dictionaries, where each dictionary looks like the following:\n",
    "\n",
    "example_dict = {\"host\":\"146.204.224.152\", \n",
    "                \"user_name\":\"feest6811\", \n",
    "                \"time\":\"21/Jun/2019:15:45:24 -0700\",\n",
    "                \"request\":\"POST /incentivize HTTP/1.1\"}"
   ]
  },
  {
   "cell_type": "code",
   "execution_count": 34,
   "id": "d498e080",
   "metadata": {},
   "outputs": [
    {
     "name": "stdout",
     "output_type": "stream",
     "text": [
      "980\n",
      "146.204.224.152 - feest6811 [21/Jun/2019:15:45:24 -0700] \"POST /incentivize HTTP/1.1\" 302 4622\n",
      "\n"
     ]
    },
    {
     "data": {
      "text/plain": [
       "[{'host': '146.204.224.152',\n",
       "  'user_name': 'feest6811',\n",
       "  'time': '21/Jun/2019:15:45:24 -0700',\n",
       "  'request': 'POST /incentivize HTTP/1.1'},\n",
       " {'host': '197.109.77.178',\n",
       "  'user_name': 'kertzmann3129',\n",
       "  'time': '21/Jun/2019:15:45:25 -0700',\n",
       "  'request': 'DELETE /virtual/solutions/target/web+services HTTP/2.0'}]"
      ]
     },
     "execution_count": 34,
     "metadata": {},
     "output_type": "execute_result"
    }
   ],
   "source": [
    "with open(\"logdata.txt\", \"r\") as file:\n",
    "    logdata = file.read()\n",
    "    list=logdata.split('\\n')\n",
    "print(len(list))\n",
    "print(list[0])\n",
    "print(list[979])   #the last element is empty due to the function split('\\n')\n",
    "del list[979]\n",
    "list_dict=[]\n",
    "for line in list:\n",
    "    dict={}\n",
    "    dict['host']=line.split()[0]\n",
    "    dict['user_name']=line.split()[2]\n",
    "    pattern='(?<=\\[).*(?=\\])'\n",
    "    dict['time']=re.findall(pattern, line)[0]\n",
    "    pattern1 = '(?<=\\\").*(?=\\\")'\n",
    "    dict['request']=re.findall(pattern1, line)[0]\n",
    "    list_dict.append(dict)\n",
    "list_dict[0:2]"
   ]
  }
 ],
 "metadata": {
  "kernelspec": {
   "display_name": "Python 3",
   "language": "python",
   "name": "python3"
  },
  "language_info": {
   "codemirror_mode": {
    "name": "ipython",
    "version": 3
   },
   "file_extension": ".py",
   "mimetype": "text/x-python",
   "name": "python",
   "nbconvert_exporter": "python",
   "pygments_lexer": "ipython3",
   "version": "3.8.8"
  }
 },
 "nbformat": 4,
 "nbformat_minor": 5
}
