{
 "cells": [
  {
   "cell_type": "markdown",
   "id": "5844e919",
   "metadata": {},
   "source": [
    "## PART A\n",
    "#### Find a list of all of the names in the following string using regex."
   ]
  },
  {
   "cell_type": "code",
   "execution_count": 1,
   "id": "8a6852ca",
   "metadata": {},
   "outputs": [],
   "source": [
    "import re"
   ]
  },
  {
   "cell_type": "code",
   "execution_count": 2,
   "id": "75ee99a3",
   "metadata": {},
   "outputs": [
    {
     "data": {
      "text/plain": [
       "['Lucy', 'Elizabeth', 'Ruth', 'Carl']"
      ]
     },
     "execution_count": 2,
     "metadata": {},
     "output_type": "execute_result"
    }
   ],
   "source": [
    "simple_string = \"Lucy is 5 years old, and her sister Elizabeth is 2 years old. Ruth and Carl, their parents, have 3 kids.\"\n",
    "pattern=\"[A-Z]\\w+\"\n",
    "list_names = re.findall(pattern, simple_string)\n",
    "list_names"
   ]
  },
  {
   "cell_type": "markdown",
   "id": "b695560f",
   "metadata": {},
   "source": [
    "## PART B\n",
    "#### The dataset file in assets/grades.txt contains a line separated list of people with their grade in a class. \n",
    "#### Create a regex to generate a list of just those students who received a B in the course."
   ]
  },
  {
   "cell_type": "code",
   "execution_count": 3,
   "id": "fe5ccb06",
   "metadata": {},
   "outputs": [
    {
     "name": "stdout",
     "output_type": "stream",
     "text": [
      "['Ronald Mayr: A', 'Bell Kassulke: B', 'Jacqueline Rupp: A', 'Alexander Zeller: C', 'Valentina Denk: C', 'Simon Loidl: B', 'Elias Jovanovic: B', 'Stefanie Weninger: A', 'Fabian Peer: C', 'Hakim Botros: B']\n",
      "\n",
      "List of students who graded B:\n"
     ]
    },
    {
     "data": {
      "text/plain": [
       "['Bell Kassulke',\n",
       " 'Simon Loidl',\n",
       " 'Elias Jovanovic',\n",
       " 'Hakim Botros',\n",
       " 'Emilie Lorentsen',\n",
       " 'Jake Wood',\n",
       " 'Fatemeh Akhtar',\n",
       " 'Kim Weston',\n",
       " 'Yasmin Dar',\n",
       " 'Viswamitra Upandhye',\n",
       " 'Killian Kaufman',\n",
       " 'Elwood Page',\n",
       " 'Elodie Booker',\n",
       " 'Adnan Chen',\n",
       " 'Hank Spinka',\n",
       " 'Hannah Bayer']"
      ]
     },
     "execution_count": 3,
     "metadata": {},
     "output_type": "execute_result"
    }
   ],
   "source": [
    "with open (\"grades.txt\", \"r\") as file:\n",
    "    grades = file.read()\n",
    "    list=grades.split('\\n')\n",
    "    \n",
    "list=[student.rstrip() for student in list]   #to remove the white space at the end of some lines\n",
    "print(list[:10])\n",
    "B_studs=[]\n",
    "for student in list:\n",
    "  test='B$'\n",
    "  if re.search(test, student):\n",
    "      B_studs.append(student.split(\":\")[0])\n",
    "print(\"\\nList of students who graded B:\")\n",
    "B_studs\n"
   ]
  }
 ],
 "metadata": {
  "kernelspec": {
   "display_name": "Python 3",
   "language": "python",
   "name": "python3"
  },
  "language_info": {
   "codemirror_mode": {
    "name": "ipython",
    "version": 3
   },
   "file_extension": ".py",
   "mimetype": "text/x-python",
   "name": "python",
   "nbconvert_exporter": "python",
   "pygments_lexer": "ipython3",
   "version": "3.8.8"
  }
 },
 "nbformat": 4,
 "nbformat_minor": 5
}
